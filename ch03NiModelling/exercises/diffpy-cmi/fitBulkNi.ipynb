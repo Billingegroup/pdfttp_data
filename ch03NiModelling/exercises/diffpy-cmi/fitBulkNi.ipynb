{
 "cells": [
  {
   "cell_type": "markdown",
   "metadata": {
    "pycharm": {
     "name": "#%% md\n"
    }
   },
   "source": [
    "\n",
    "<br>\n",
    "Please see notes in Chapter 3 of the 'PDF to the People' book for additonal<br>\n",
    "explanation of the code.<br>\n",
    "This Diffpy-CMI script will carry out a structural refinement of a measured<br>\n",
    "PDF from nickel.  It is the same refinement as is done using PDFgui in this<br>\n",
    "chapter of the book, only this time using Diffpy-CMI<br>\n",
    "<br>\n",
    "1: Import relevant system packages that we will need..."
   ]
  },
  {
   "cell_type": "code",
   "execution_count": null,
   "metadata": {
    "pycharm": {
     "name": "#%%\n"
    }
   },
   "outputs": [],
   "source": [
    "from pathlib import Path\n",
    "import matplotlib as mpl\n",
    "import matplotlib.pyplot as plt\n",
    "import numpy as np\n",
    "from scipy.optimize import least_squares"
   ]
  },
  {
   "cell_type": "markdown",
   "metadata": {
    "pycharm": {
     "name": "#%% md\n"
    }
   },
   "source": [
    "... and the relevant CMI packages"
   ]
  },
  {
   "cell_type": "code",
   "execution_count": null,
   "metadata": {
    "pycharm": {
     "name": "#%%\n"
    }
   },
   "outputs": [],
   "source": [
    "from diffpy.srfit.fitbase import FitContribution, FitRecipe\n",
    "from diffpy.srfit.fitbase import FitResults\n",
    "from diffpy.srfit.fitbase import Profile\n",
    "from diffpy.srfit.pdf import PDFParser, PDFGenerator\n",
    "from diffpy.structure.parsers import getParser\n",
    "from diffpy.srfit.structure import constrainAsSpaceGroup"
   ]
  },
  {
   "cell_type": "markdown",
   "metadata": {
    "pycharm": {
     "name": "#%% md\n"
    }
   },
   "source": [
    "############# Config ##############################<br>\n",
    "2: Give a file path to where your PDF (.gr) and structure (.cif) files are located. In this case it is two directories up, in a folder called 'data'.  First we store the absolute directory of this script (`Path(__file__).parent.absolute()`), then we navigate two directories above this in the file tree (`PWD.parent.parent`) and append the name of the data directory `/ \"data\"`."
   ]
  },
  {
   "cell_type": "code",
   "execution_count": null,
   "metadata": {
    "pycharm": {
     "name": "#%%\n"
    }
   },
   "outputs": [],
   "source": [
    "PWD = Path(__file__).parent.absolute()\n",
    "DPATH = PWD.parent.parent / \"data\""
   ]
  },
  {
   "cell_type": "markdown",
   "metadata": {
    "pycharm": {
     "name": "#%% md\n"
    }
   },
   "source": [
    "3: Give an identifying name for the refinement, similar to what you would name a fit tree in PDFGui."
   ]
  },
  {
   "cell_type": "code",
   "execution_count": null,
   "metadata": {
    "pycharm": {
     "name": "#%%\n"
    }
   },
   "outputs": [],
   "source": [
    "FIT_ID = \"Fit_Ni_Bulk\""
   ]
  },
  {
   "cell_type": "markdown",
   "metadata": {
    "pycharm": {
     "name": "#%% md\n"
    }
   },
   "source": [
    "4: Specify the names of the input PDF and CIF file that are sitting in that data directory."
   ]
  },
  {
   "cell_type": "code",
   "execution_count": null,
   "metadata": {
    "pycharm": {
     "name": "#%%\n"
    }
   },
   "outputs": [],
   "source": [
    "GR_NAME = \"Ni.gr\"\n",
    "CIF_NAME = \"Ni.cif\""
   ]
  },
  {
   "cell_type": "markdown",
   "metadata": {
    "pycharm": {
     "name": "#%% md\n"
    }
   },
   "source": [
    "###### Experimental PDF Config ######################<br>\n",
    "5: Specify the min, max, and step r-values of the PDF (that we want to fit over) also, specify the Qmax and Qmin values used to reduce the PDF."
   ]
  },
  {
   "cell_type": "code",
   "execution_count": null,
   "metadata": {
    "pycharm": {
     "name": "#%%\n"
    }
   },
   "outputs": [],
   "source": [
    "PDF_RMIN = 1.5\n",
    "PDF_RMAX = 50\n",
    "PDF_RSTEP = 0.01\n",
    "QMAX = 25\n",
    "QMIN = 0.1"
   ]
  },
  {
   "cell_type": "markdown",
   "metadata": {
    "pycharm": {
     "name": "#%% md\n"
    }
   },
   "source": [
    "###### PDF Initialize refinable variables #############<br>\n",
    "6: We explicitly specify initial values lattice parameter, scale, and isotropic thermal parameters, as well as a correlated motion parameter, in this case delta_2."
   ]
  },
  {
   "cell_type": "code",
   "execution_count": null,
   "metadata": {
    "pycharm": {
     "name": "#%%\n"
    }
   },
   "outputs": [],
   "source": [
    "CUBICLAT_I = 3.52\n",
    "SCALE_I = 0.4\n",
    "UISO_I = 0.005\n",
    "DELTA2_I = 2"
   ]
  },
  {
   "cell_type": "markdown",
   "metadata": {
    "pycharm": {
     "name": "#%% md\n"
    }
   },
   "source": [
    "7: We will give initial values for the instrumental parameters, but because<br>\n",
    "this is a calibrant, we will also refine these variables."
   ]
  },
  {
   "cell_type": "code",
   "execution_count": null,
   "metadata": {
    "pycharm": {
     "name": "#%%\n"
    }
   },
   "outputs": [],
   "source": [
    "QDAMP_I = 0.04\n",
    "QBROAD_I = 0.02"
   ]
  },
  {
   "cell_type": "markdown",
   "metadata": {
    "pycharm": {
     "name": "#%% md\n"
    }
   },
   "source": [
    "If we want to run using multiprocessors, we can switch this to 'True'.<br>\n",
    "This requires that the 'psutil' python package installed."
   ]
  },
  {
   "cell_type": "code",
   "execution_count": null,
   "metadata": {
    "pycharm": {
     "name": "#%%\n"
    }
   },
   "outputs": [],
   "source": [
    "RUN_PARALLEL = True"
   ]
  },
  {
   "cell_type": "markdown",
   "metadata": {
    "pycharm": {
     "name": "#%% md\n"
    }
   },
   "source": [
    "###### Functions that will carry out the refinement ##################<br>\n",
    "8: We define a function 'make_recipe' to make the recipe that the fit will follow.<br>\n",
    "This Fit Recipe object contains the PDF data, information on all the structure(s)<br>\n",
    "we will use to fit, and all relevant details necessary to run the fit."
   ]
  },
  {
   "cell_type": "code",
   "execution_count": null,
   "metadata": {
    "pycharm": {
     "name": "#%%\n"
    }
   },
   "outputs": [],
   "source": [
    "def make_recipe(cif_path, dat_path):\n",
    "    \"\"\"\n",
    "    Creates and returns a Fit Recipe object\n",
    "    Parameters\n",
    "    ----------\n",
    "    cif_path :  string, The full path to the structure CIF file to load.\n",
    "    dat_path :  string, The full path to the PDF data to be fit.\n",
    "    Returns\n",
    "    ----------\n",
    "    recipe :    The initialized Fit Recipe object using the dat_path and structure path\n",
    "                provided.\n",
    "    \"\"\"\n",
    "    # 9: Create a CIF file parsing object, and use it to parse out\n",
    "    # relevant info and load the structure in the CIF file. This\n",
    "    # includes the space group of the structure. We need this so we\n",
    "    # can constrain the structure parameters later on.\n",
    "    p_cif = getParser('cif')\n",
    "    stru1 = p_cif.parseFile(cif_path)\n",
    "    sg = p_cif.spacegroup.short_name\n",
    "\n",
    "    # 10: Create a Profile object for the experimental dataset.\n",
    "    # This handles all details about the dataset.\n",
    "    # We also tell this profile the range and mesh of points in r-space.\n",
    "    # The 'PDFParser' function should parse out the appropriate Q_min and\n",
    "    # Q_max from the *.gr file, if the information is present.\n",
    "    profile = Profile()\n",
    "    parser = PDFParser()\n",
    "    parser.parseFile(dat_path)\n",
    "    profile.loadParsedData(parser)\n",
    "    profile.setCalculationRange(xmin=PDF_RMIN, xmax=PDF_RMAX, dx=PDF_RSTEP)\n",
    "\n",
    "    # 11: Create a PDF Generator object for a periodic structure model.\n",
    "    # Here we name it arbitrarily 'G1' and we give it the structure object.\n",
    "    # This Generator will later compute the model PDF for the structure\n",
    "    # object we provide it here.\n",
    "    generator_crystal1 = PDFGenerator(\"G1\")\n",
    "    generator_crystal1.setStructure(stru1, periodic=True)\n",
    "\n",
    "    # 12: Create a Fit Contribution object, and arbitrarily name it 'crystal'.\n",
    "    # We then give the PDF Generator object we created just above\n",
    "    # to this Fit Contribution object. The Fit Contribution holds\n",
    "    # the equation used to fit the PDF.\n",
    "    contribution = FitContribution(\"crystal\")\n",
    "    contribution.addProfileGenerator(generator_crystal1)\n",
    "\n",
    "    # If you have a multi-core computer (you probably do),\n",
    "    # run your refinement in parallel!\n",
    "    # Here we just make sure not to overload your CPUs.\n",
    "    if RUN_PARALLEL:\n",
    "        try:\n",
    "            import psutil\n",
    "            import multiprocessing\n",
    "            from multiprocessing import Pool\n",
    "        except ImportError:\n",
    "            print(\"\\nYou don't appear to have the necessary packages for parallelization\")\n",
    "        syst_cores = multiprocessing.cpu_count()\n",
    "        cpu_percent = psutil.cpu_percent()\n",
    "        avail_cores = np.floor((100 - cpu_percent) / (100.0 / syst_cores))\n",
    "        ncpu = int(np.max([1, avail_cores]))\n",
    "        pool = Pool(processes=ncpu)\n",
    "        generator_crystal1.parallel(ncpu=ncpu, mapfunc=pool.map)\n",
    "\n",
    "    # 13: Set the experimental profile, within the Fit Contribution object,\n",
    "    # to the Profile object we created earlier.\n",
    "    contribution.setProfile(profile, xname=\"r\")\n",
    "\n",
    "    # 14: Set an equation, within the Fit Contribution, based on your PDF\n",
    "    # Generators. Here we simply have one Generator, 'G1', and a scale variable,\n",
    "    # 's1'. Using this structure is a very flexible way of adding additional\n",
    "    # Generators (ie. multiple structural phases), experimental Profiles,\n",
    "    # PDF characteristic functions (ie. shape envelopes), and more.\n",
    "    contribution.setEquation(\"s1*G1\")\n",
    "\n",
    "    # 15: Create the Fit Recipe object that holds all the details of the fit,\n",
    "    # defined in previous lines above. We give the Fit Recipe the Fit\n",
    "    # Contribution we created earlier.\n",
    "    recipe = FitRecipe()\n",
    "    recipe.addContribution(contribution)\n",
    "\n",
    "    # 16: Initialize the instrument parameters, Q_damp and Q_broad, and\n",
    "    # assign Q_max and Q_min, all part of the PDF Generator object.\n",
    "    # It's possible that the 'PDFParse' function we used above\n",
    "    # already parsed out ths information, but in case it didn't, we set it\n",
    "    # explicitly again here.\n",
    "    # All parameter objects can have their value assigned using the\n",
    "    # below '.value = ' syntax.\n",
    "    recipe.crystal.G1.qdamp.value = QDAMP_I\n",
    "    recipe.crystal.G1.qbroad.value = QBROAD_I\n",
    "    recipe.crystal.G1.setQmax(QMAX)\n",
    "    recipe.crystal.G1.setQmin(QMIN)\n",
    "\n",
    "    # 17: Add a variable to the Fit Recipe object, initialize the variables\n",
    "    # with some value, and tag it with an aribtrary string. Here we add the scale\n",
    "    # parameter from the Fit Contribution. The '.addVar' method can be\n",
    "    # used to add variables to the Fit Recipe.\n",
    "    recipe.addVar(contribution.s1, SCALE_I, tag=\"scale\")\n",
    "\n",
    "    # 18: Configure some additional fit variables pertaining to symmetry.\n",
    "    # We can use the srfit function 'constrainAsSpaceGroup' to constrain\n",
    "    # the lattice and ADP parameters according to the Fm-3m space group.\n",
    "    # First we establish the relevant parameters, then we loop through\n",
    "    # the parameters and activate and tag them. We must explicitly set the\n",
    "    # ADP parameters using 'value=' because CIF had no ADP data.\n",
    "    spacegroupparams = constrainAsSpaceGroup(generator_crystal1.phase,\n",
    "                                             sg)\n",
    "    for par in spacegroupparams.latpars:\n",
    "        recipe.addVar(par,\n",
    "                      value=CUBICLAT_I,\n",
    "                      fixed=False,\n",
    "                      name=\"fcc_Lat\",\n",
    "                      tag=\"lat\")\n",
    "    for par in spacegroupparams.adppars:\n",
    "        recipe.addVar(par,\n",
    "                      value=UISO_I,\n",
    "                      fixed=False,\n",
    "                      name=\"fcc_ADP\",\n",
    "                      tag=\"adp\")\n",
    "\n",
    "    # 19: Add delta and instrumental parameters to Fit Recipe.\n",
    "    # These parameters are contained as part of the PDF Generator object\n",
    "    # and initialized with values as defined in the opening of the script.\n",
    "    # We give them unique names, and tag them with relevant strings.\n",
    "    recipe.addVar(generator_crystal1.delta2,\n",
    "                  name=\"Ni_Delta2\",\n",
    "                  value=DELTA2_I,\n",
    "                  tag=\"d2\")\n",
    "    recipe.addVar(generator_crystal1.qdamp,\n",
    "                  fixed=False,\n",
    "                  name=\"Calib_Qdamp\",\n",
    "                  value=QDAMP_I,\n",
    "                  tag=\"inst\")\n",
    "    recipe.addVar(generator_crystal1.qbroad,\n",
    "                  fixed=False,\n",
    "                  name=\"Calib_Qbroad\",\n",
    "                  value=QBROAD_I,\n",
    "                  tag=\"inst\")\n",
    "\n",
    "    # 20: Return the Fit Recipe object to be optimized.\n",
    "    return recipe\n",
    "\n",
    "    # End of function"
   ]
  },
  {
   "cell_type": "markdown",
   "metadata": {
    "pycharm": {
     "name": "#%% md\n"
    }
   },
   "source": [
    "21: We create a useful function 'plot_results' for writing a plot of the fit to disk.<br>\n",
    "We won't go into detail here as much of this is non-CMI specific"
   ]
  },
  {
   "cell_type": "code",
   "execution_count": null,
   "metadata": {
    "pycharm": {
     "name": "#%%\n"
    }
   },
   "outputs": [],
   "source": [
    "def plot_results(recipe, fig_name):\n",
    "    \"\"\"\n",
    "    Creates plots of the fitted PDF and residual, and writes them to disk\n",
    "    as *.pdf files.\n",
    "    Parameters\n",
    "    ----------\n",
    "    recipe :    The optimized Fit Recipe object containing the PDF data\n",
    "                we wish to plot.\n",
    "    fig_name :  Path object, the full path to the figure file to create..\n",
    "    Returns\n",
    "    ----------\n",
    "    None\n",
    "    \"\"\"\n",
    "    if not isinstance(fig_name, Path):\n",
    "        fig_name = Path(fig_name)\n",
    "    plt.clf()\n",
    "    plt.close('all')\n",
    "\n",
    "    # Get an array of the r-values we fitted over.\n",
    "    r = recipe.crystal.profile.x\n",
    "\n",
    "    # Get an array of the observed PDF.\n",
    "    g = recipe.crystal.profile.y\n",
    "\n",
    "    # Get an array of the calculated PDF.\n",
    "    gcalc = recipe.crystal.profile.ycalc\n",
    "\n",
    "    # Make an array of identical shape as g which is offset from g.\n",
    "    diffzero = -0.65 * max(g) * np.ones_like(g)\n",
    "\n",
    "    # Calculate the residual (difference) array and offset it vertically.\n",
    "    diff = g - gcalc + diffzero\n",
    "\n",
    "    # Change some style detials of the plot\n",
    "    mpl.rcParams.update(mpl.rcParamsDefault)\n",
    "    if (PWD.parent.parent.parent / \"utils\" / \"billinge.mplstyle\").exists():\n",
    "        plt.style.use(str(PWD.parent.parent.parent /\n",
    "                       \"utils\" / \"billinge.mplstyle\"))\n",
    "\n",
    "    # Create a figure and an axis on which to plot\n",
    "    fig, ax1 = plt.subplots(1, 1)\n",
    "\n",
    "    # Plot the difference offset line\n",
    "    ax1.plot(r, diffzero, lw=1.0, ls=\"--\", c=\"black\")\n",
    "\n",
    "    # Plot the measured data\n",
    "    ax1.plot(r,\n",
    "             g,\n",
    "             ls=\"None\",\n",
    "             marker=\"o\",\n",
    "             ms=5,\n",
    "             mew=0.2,\n",
    "             mfc=\"None\",\n",
    "             label=\"G(r) Data\")\n",
    "\n",
    "    # Plot the calculated data\n",
    "    ax1.plot(r, gcalc, lw=1.3, label=\"G(r) Fit\")\n",
    "\n",
    "    # Plot the difference\n",
    "    ax1.plot(r, diff, lw=1.2, label=\"G(r) diff\")\n",
    "\n",
    "    # Let's label the axes!\n",
    "    ax1.set_xlabel(r\"r ($\\mathrm{\\AA}$)\")\n",
    "    ax1.set_ylabel(r\"G ($\\mathrm{\\AA}$$^{-2}$)\")\n",
    "\n",
    "    # Tune the tick markers. We are picky!\n",
    "    ax1.tick_params(axis=\"both\",\n",
    "                    which=\"major\",\n",
    "                    top=True,\n",
    "                    right=True)\n",
    "\n",
    "    # Set the boundaries on the x-axis\n",
    "    ax1.set_xlim(r[0], r[-1])\n",
    "\n",
    "    # We definitely want a legend!\n",
    "    ax1.legend()\n",
    "\n",
    "    # Let's use a tight layout. Shun wasted space!\n",
    "    plt.tight_layout()\n",
    "\n",
    "    # This is going to make a figure pop up on screen for you to view.\n",
    "    # The script will pause until you close the figure!\n",
    "    plt.show()\n",
    "\n",
    "    # Let's save the figure!\n",
    "    fig.savefig(fig_name.parent / f\"{fig_name.name}.pdf\", format=\"pdf\")\n",
    "\n",
    "    # End of function"
   ]
  },
  {
   "cell_type": "markdown",
   "metadata": {
    "pycharm": {
     "name": "#%% md\n"
    }
   },
   "source": [
    "22: By Convention, this main function is where we do most of our work, and it<br>\n",
    "is the bit of code which will be run when we issue 'python file.py' from a terminal."
   ]
  },
  {
   "cell_type": "code",
   "execution_count": null,
   "metadata": {
    "pycharm": {
     "name": "#%%\n"
    }
   },
   "outputs": [],
   "source": [
    "def main():\n",
    "    \"\"\"\n",
    "    This will run by default when the file is executed using\n",
    "    'python file.py' in the command line.\n",
    "    Parameters\n",
    "    ----------\n",
    "    None\n",
    "    Returns\n",
    "    ----------\n",
    "    None\n",
    "    \"\"\"\n",
    "    # Make some folders to store our output files.\n",
    "    resdir = PWD / \"res\"\n",
    "    fitdir = PWD / \"fit\"\n",
    "    figdir = PWD / \"fig\"\n",
    "    folders = [resdir, fitdir, figdir]\n",
    "    for folder in folders:\n",
    "        if not folder.exists():\n",
    "            folder.mkdir()\n",
    "\n",
    "    # Establish the location of the data and a name for our fit.\n",
    "    gr_path = DPATH / GR_NAME\n",
    "    basename = FIT_ID\n",
    "    print(basename)\n",
    "\n",
    "    # Establish the full path of the CIF file with the structure of interest.\n",
    "    stru_path = DPATH / CIF_NAME\n",
    "\n",
    "    # 23: Now we call our 'make_recipe' function created above, giving\n",
    "    # strings which points to the relevant CIF file and PDF data file.\n",
    "    recipe = make_recipe(str(stru_path),\n",
    "                         str(gr_path))\n",
    "\n",
    "    # Tell the Fit Recipe we want to write the maximum amount of\n",
    "    # information to the terminal during fitting.\n",
    "    # Passing '2' or '1' prints intermediate info, while '0' prints no info.\n",
    "    recipe.fithooks[0].verbose = 3\n",
    "\n",
    "    # 24: During the optimization, fix and free parameters sequentially\n",
    "    # as you would PDFgui. This leads to more stability in the refinement.\n",
    "    # This can be done with 'recipe.fix' and 'recipe.free' and we can use\n",
    "    # either a single parameter name or any of the tags we assigned when creating\n",
    "    # the fit recipe. We first fix all variables. The tag 'all' incorporates every parameter.\n",
    "    # We then create a list of 'tags' which we want free sequentially, we\n",
    "    # loop over them freeing each during a loop, and then fit using the\n",
    "    # SciPy function 'least_squares'. 'least_squares' takes as its arguments\n",
    "    # the function to be optimized, here 'recipe.residual',\n",
    "    # as well as initial values for the fitted parameters, provided by\n",
    "    # 'recipe.values'. The 'x_scale=\"jac\"' argument is optional\n",
    "    # and provides for a bit more stability.\n",
    "    recipe.fix(\"all\")\n",
    "    tags = [\"lat\", \"scale\", \"adp\", \"d2\", \"all\"]\n",
    "    for tag in tags:\n",
    "        recipe.free(tag)\n",
    "        least_squares(recipe.residual, recipe.values, x_scale=\"jac\")\n",
    "\n",
    "    # 25: We use the 'savetxt' method of the profile to write a text file\n",
    "    # containing the measured and fitted PDF to disk.\n",
    "    # The file is named based on the basename we created earlier, and\n",
    "    # written to the 'fitdir' directory.\n",
    "    profile = recipe.crystal.profile\n",
    "    profile.savetxt(fitdir / f\"{basename}.fit\")\n",
    "\n",
    "    # 26: We use the 'FitResults' method to parse out the results from\n",
    "    # the optimized Fit Recipe, and 'printResults' to print them\n",
    "    # to the terminal.\n",
    "    res = FitResults(recipe)\n",
    "    res.printResults()\n",
    "\n",
    "    # 27: We use the 'saveResults' method of 'FitResults' to write a text file\n",
    "    # containing the fitted parameters and fit quality indices to disk.\n",
    "    # The file is named based on the basename we created earlier, and\n",
    "    # written to the 'resdir' directory.\n",
    "    header = \"crystal_HF.\\n\"\n",
    "    res.saveResults(resdir / f\"{basename}.res\", header=header)\n",
    "\n",
    "    # 28: We use the 'plot_results' method we created earlier to write a pdf file\n",
    "    # containing the measured and fitted PDF with residual to disk.\n",
    "    # The file is named based on the 'basename' we created earlier, and\n",
    "    # written to the 'figdir' directory.\n",
    "    plot_results(recipe, figdir / basename)\n",
    "\n",
    "    # End of function"
   ]
  },
  {
   "cell_type": "markdown",
   "metadata": {
    "pycharm": {
     "name": "#%% md\n"
    }
   },
   "source": [
    "This tells python to run the 'main' function we defined above."
   ]
  },
  {
   "cell_type": "code",
   "execution_count": null,
   "metadata": {
    "pycharm": {
     "name": "#%%\n"
    }
   },
   "outputs": [],
   "source": [
    "if __name__ == \"__main__\":\n",
    "    main()"
   ]
  },
  {
   "cell_type": "markdown",
   "metadata": {
    "pycharm": {
     "name": "#%% md\n"
    }
   },
   "source": [
    "End of file"
   ]
  }
 ],
 "metadata": {
  "kernelspec": {
   "display_name": "Python 3",
   "language": "python",
   "name": "python3"
  },
  "language_info": {
   "codemirror_mode": {
    "name": "ipython",
    "version": 3
   },
   "file_extension": ".py",
   "mimetype": "text/x-python",
   "name": "python",
   "nbconvert_exporter": "python",
   "pygments_lexer": "ipython3",
   "version": "3.6.4"
  }
 },
 "nbformat": 4,
 "nbformat_minor": 2
}